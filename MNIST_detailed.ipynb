{
 "cells": [
  {
   "cell_type": "code",
   "execution_count": 212,
   "metadata": {},
   "outputs": [],
   "source": [
    "import numpy as np\n",
    "import pandas as pd"
   ]
  },
  {
   "cell_type": "code",
   "execution_count": 213,
   "metadata": {},
   "outputs": [
    {
     "name": "stdout",
     "output_type": "stream",
     "text": [
      "[  1   0   0   0   0   0   0   0   0   0   0   0   0   0   0   0   0   0\n",
      "   0   0   0   0   0   0   0   0   0   0   0   0   0   0   0   0   0   0\n",
      "   0   0   0   0   0   0   0   0   0   0   0   0   0   0   0   0   0   0\n",
      "   0   0   0   0   0   0   0   0   0   0   0   0   0   0   0   0   0   0\n",
      "   0   0   0   0   0   0   0   0   0   0   0   0   0   0   0   0   0   0\n",
      "   0   0   0   0   0   0   0   0   0   0   0   0   0   0   0   0   0   0\n",
      "   0   0   0   0   0   0   0   0   0   0   0   0   0   0   0   0   0   0\n",
      "   0   0   0   0   0   0   0 188 255  94   0   0   0   0   0   0   0   0\n",
      "   0   0   0   0   0   0   0   0   0   0   0   0   0   0   0   0 191 250\n",
      " 253  93   0   0   0   0   0   0   0   0   0   0   0   0   0   0   0   0\n",
      "   0   0   0   0   0   0   0 123 248 253 167  10   0   0   0   0   0   0\n",
      "   0   0   0   0   0   0   0   0   0   0   0   0   0   0   0   0  80 247\n",
      " 253 208  13   0   0   0   0   0   0   0   0   0   0   0   0   0   0   0\n",
      "   0   0   0   0   0   0   0  29 207 253 235  77   0   0   0   0   0   0\n",
      "   0   0   0   0   0   0   0   0   0   0   0   0   0   0   0   0  54 209\n",
      " 253 253  88   0   0   0   0   0   0   0   0   0   0   0   0   0   0   0\n",
      "   0   0   0   0   0   0   0  93 254 253 238 170  17   0   0   0   0   0\n",
      "   0   0   0   0   0   0   0   0   0   0   0   0   0   0   0   0  23 210\n",
      " 254 253 159   0   0   0   0   0   0   0   0   0   0   0   0   0   0   0\n",
      "   0   0   0   0   0   0   0  16 209 253 254 240  81   0   0   0   0   0\n",
      "   0   0   0   0   0   0   0   0   0   0   0   0   0   0   0   0   0  27\n",
      " 253 253 254  13   0   0   0   0   0   0   0   0   0   0   0   0   0   0\n",
      "   0   0   0   0   0   0   0   0  20 206 254 254 198   7   0   0   0   0\n",
      "   0   0   0   0   0   0   0   0   0   0   0   0   0   0   0   0   0   0\n",
      " 168 253 253 196   7   0   0   0   0   0   0   0   0   0   0   0   0   0\n",
      "   0   0   0   0   0   0   0   0   0  20 203 253 248  76   0   0   0   0\n",
      "   0   0   0   0   0   0   0   0   0   0   0   0   0   0   0   0   0   0\n",
      "  22 188 253 245  93   0   0   0   0   0   0   0   0   0   0   0   0   0\n",
      "   0   0   0   0   0   0   0   0   0   0 103 253 253 191   0   0   0   0\n",
      "   0   0   0   0   0   0   0   0   0   0   0   0   0   0   0   0   0   0\n",
      "   0  89 240 253 195  25   0   0   0   0   0   0   0   0   0   0   0   0\n",
      "   0   0   0   0   0   0   0   0   0   0  15 220 253 253  80   0   0   0\n",
      "   0   0   0   0   0   0   0   0   0   0   0   0   0   0   0   0   0   0\n",
      "   0   0  94 253 253 253  94   0   0   0   0   0   0   0   0   0   0   0\n",
      "   0   0   0   0   0   0   0   0   0   0   0   0  89 251 253 250 131   0\n",
      "   0   0   0   0   0   0   0   0   0   0   0   0   0   0   0   0   0   0\n",
      "   0   0   0   0   0 214 218  95   0   0   0   0   0   0   0   0   0   0\n",
      "   0   0   0   0   0   0   0   0   0   0   0   0   0   0   0   0   0   0\n",
      "   0   0   0   0   0   0   0   0   0   0   0   0   0   0   0   0   0   0\n",
      "   0   0   0   0   0   0   0   0   0   0   0   0   0   0   0   0   0   0\n",
      "   0   0   0   0   0   0   0   0   0   0   0   0   0   0   0   0   0   0\n",
      "   0   0   0   0   0   0   0   0   0   0   0   0   0   0   0   0   0   0\n",
      "   0   0   0   0   0   0   0   0   0   0   0   0   0   0   0   0   0   0\n",
      "   0   0   0   0   0   0   0   0   0   0   0]\n",
      "(42000, 785)\n"
     ]
    }
   ],
   "source": [
    "data = pd.read_csv('train.csv')\n",
    "data = np.array(data)\n",
    "print(data[0])\n",
    "\n",
    "# This is the shape of the data, we have 42,000 images and an array of 785 values\n",
    "# for each of these images (label in the first column, 2-785 are the pixel values)\n",
    "print(data.shape)\n",
    "m, n = data.shape"
   ]
  },
  {
   "cell_type": "code",
   "execution_count": 214,
   "metadata": {},
   "outputs": [
    {
     "name": "stdout",
     "output_type": "stream",
     "text": [
      "[[3.  4.4 5.5]\n",
      " [5.  6.6 7.7]\n",
      " [1.  2.2 3.3]]\n"
     ]
    }
   ],
   "source": [
    "# Now we shuffle the data (example below)\n",
    "test_arr = np.array([[1,2.2,3.3], [3,4.4,5.5], [5,6.6,7.7]])\n",
    "np.random.shuffle(test_arr)\n",
    "print(test_arr)\n",
    "\n",
    "# Show we shuffle all the images to throw into the model (reduces bias and introduces independence)\n",
    "np.random.shuffle(data)"
   ]
  },
  {
   "cell_type": "code",
   "execution_count": 215,
   "metadata": {},
   "outputs": [
    {
     "name": "stdout",
     "output_type": "stream",
     "text": [
      "[[3.  5.  1. ]\n",
      " [4.4 6.6 2.2]\n",
      " [5.5 7.7 3.3]]\n",
      "(785, 42000)\n"
     ]
    }
   ],
   "source": [
    "# Now we transpose the array (example)\n",
    "t_test_array = test_arr.T\n",
    "print(t_test_array)\n",
    "\n",
    "# We want to transpose the entire x data (first we are slicing an array from the start\n",
    "# to the end at 46,000 that generates a new arry). Then transpose so we can pass into neural network \n",
    "# (because imput layer is vertical):\n",
    "data_train = data[0:m].T\n",
    "print(data_train.shape)"
   ]
  },
  {
   "cell_type": "code",
   "execution_count": 216,
   "metadata": {},
   "outputs": [
    {
     "name": "stdout",
     "output_type": "stream",
     "text": [
      "[3. 5. 1.]\n",
      "[[4.4 6.6 2.2]\n",
      " [5.5 7.7 3.3]]\n",
      "(784, 42000)\n"
     ]
    }
   ],
   "source": [
    "# After the transpose, the first row of the data is going to be the labels (which is your y)\n",
    "# Example \n",
    "y_label_test_array = t_test_array[0]\n",
    "x_label_test_array = t_test_array[1:]\n",
    "\n",
    "print(y_label_test_array)\n",
    "print(x_label_test_array)\n",
    "\n",
    "Y_train = data_train[0]\n",
    "X_train = data_train[1:n]\n",
    "print(X_train.shape)"
   ]
  },
  {
   "cell_type": "code",
   "execution_count": 217,
   "metadata": {},
   "outputs": [],
   "source": [
    "# We divide the training data to normalize the inputs to fall into the 0 to 1 range (grayscaling)\n",
    "# The \".\"\" here makes sure we do float division \n",
    "X_train = X_train / 255.\n"
   ]
  },
  {
   "cell_type": "code",
   "execution_count": 218,
   "metadata": {},
   "outputs": [],
   "source": [
    "W1 = np.random.rand(10, 784) - 0.5"
   ]
  },
  {
   "cell_type": "code",
   "execution_count": 219,
   "metadata": {},
   "outputs": [],
   "source": [
    "def init_params():\n",
    "    # Initialize weights and biases for a neural network with one hidden layer.\n",
    "    # W1 is the weight matrix for the connections between the input layer and the hidden layer.\n",
    "    # b1 is the bias vector for the hidden layer.\n",
    "    # W2 is the weight matrix for the connections between the hidden layer and the output layer.\n",
    "    # b2 is the bias vector for the output layer.\n",
    "\n",
    "    # We want to include the bias terms here to make sure the model learns and the does not get a bunch of zeros \n",
    "\n",
    "    # Here we use np.random.rand to generate random numbers between 0 and 1.\n",
    "    # By subtracting 0.5, we shift the range to be between -0.5 and 0.5. (convergence during training as weights initialized close to zero\n",
    "    # lead to faster convergence).\n",
    "\n",
    "    # The input layer has 784 neurons (for 28x28 pixel images, 784 = 28 * 28),\n",
    "    # and the hidden layer has 10 neurons (can be changed).\n",
    "    W1 = np.random.rand(10, 784) - 0.5\n",
    "\n",
    "    # The bias vector for the hidden layer has 10 elements, one for each neuron in the hidden layer.\n",
    "    b1 = np.random.rand(10, 1) - 0.5\n",
    "\n",
    "    # The output layer has 10 neurons (one for each class in a digit classification task).\n",
    "    # W2 connects 10 neurons in the hidden layer to 10 neurons in the output layer.\n",
    "    W2 = np.random.rand(10, 10) - 0.5\n",
    "\n",
    "    # The bias vector for the output layer also has 10 elements.\n",
    "    b2 = np.random.rand(10, 1) - 0.5\n",
    "\n",
    "    return W1, b1, W2, b2"
   ]
  },
  {
   "cell_type": "code",
   "execution_count": 220,
   "metadata": {},
   "outputs": [],
   "source": [
    "def forward_prop(W1, b1, W2, b2, X):\n",
    "    print(X.shape)\n",
    "    print(W1.shape)\n",
    "    # Now we do the linear transformation (the combines the weight and input tensor using the dot product and the weight)\n",
    "    Z1 = W1.dot(X) + b1\n",
    "    print(Z1)\n"
   ]
  },
  {
   "cell_type": "code",
   "execution_count": 221,
   "metadata": {},
   "outputs": [
    {
     "name": "stdout",
     "output_type": "stream",
     "text": [
      "(784, 42000)\n",
      "(10, 784)\n",
      "[[ 4.82240811e+00  1.31175084e+00  4.71412646e+00 ...  9.90380898e-01\n",
      "   3.66038740e+00  3.66617596e+00]\n",
      " [-4.56140711e+00 -2.13028127e-02 -4.00700953e+00 ...  2.78521777e-01\n",
      "  -1.58566610e+00 -1.04357195e-01]\n",
      " [-2.50745772e+00  1.23917386e-02  2.93014353e-01 ... -2.34751310e+00\n",
      "  -3.35511208e-01  1.51704636e-02]\n",
      " ...\n",
      " [ 3.90158963e+00  1.91121671e+00  3.09526572e+00 ...  5.41449481e-03\n",
      "   3.34198307e+00  1.48856654e+00]\n",
      " [-5.37211188e+00 -3.01838633e+00  3.05261366e-03 ...  1.44830404e+00\n",
      "   1.45446942e+00 -2.72772379e+00]\n",
      " [-3.22809515e-01  1.86492260e+00  3.13799736e+00 ...  7.16657581e-01\n",
      "   2.81406029e+00 -1.78467584e+00]]\n"
     ]
    }
   ],
   "source": [
    "W1, b1, W2, b2 = init_params()\n",
    "forward_prop(W1, b1, W2, b2, X_train)"
   ]
  }
 ],
 "metadata": {
  "kernelspec": {
   "display_name": "Python 3",
   "language": "python",
   "name": "python3"
  },
  "language_info": {
   "codemirror_mode": {
    "name": "ipython",
    "version": 3
   },
   "file_extension": ".py",
   "mimetype": "text/x-python",
   "name": "python",
   "nbconvert_exporter": "python",
   "pygments_lexer": "ipython3",
   "version": "3.10.7"
  }
 },
 "nbformat": 4,
 "nbformat_minor": 2
}
