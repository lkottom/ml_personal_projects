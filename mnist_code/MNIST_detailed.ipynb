{
 "cells": [
  {
   "cell_type": "code",
   "execution_count": 9,
   "metadata": {},
   "outputs": [],
   "source": [
    "import numpy as np\n",
    "import pandas as pd\n",
    "from keras.datasets import mnist"
   ]
  },
  {
   "cell_type": "code",
   "execution_count": 10,
   "metadata": {},
   "outputs": [
    {
     "name": "stdout",
     "output_type": "stream",
     "text": [
      "(10000, 28, 28)\n",
      "[7 2 1 ... 4 5 6]\n",
      "[[7]\n",
      " [2]\n",
      " [1]\n",
      " ...\n",
      " [4]\n",
      " [5]\n",
      " [6]]\n",
      "[  1   0   0   0   0   0   0   0   0   0   0   0   0   0   0   0   0   0\n",
      "   0   0   0   0   0   0   0   0   0   0   0   0   0   0   0   0   0   0\n",
      "   0   0   0   0   0   0   0   0   0   0   0   0   0   0   0   0   0   0\n",
      "   0   0   0   0   0   0   0   0   0   0   0   0   0   0   0   0   0   0\n",
      "   0   0   0   0   0   0   0   0   0   0   0   0   0   0   0   0   0   0\n",
      "   0   0   0   0   0   0   0   0   0   0   0   0   0   0   0   0   0   0\n",
      "   0   0   0   0   0   0   0   0   0   0   0   0   0   0   0   0   0   0\n",
      "   0   0   0   0   0   0   0 188 255  94   0   0   0   0   0   0   0   0\n",
      "   0   0   0   0   0   0   0   0   0   0   0   0   0   0   0   0 191 250\n",
      " 253  93   0   0   0   0   0   0   0   0   0   0   0   0   0   0   0   0\n",
      "   0   0   0   0   0   0   0 123 248 253 167  10   0   0   0   0   0   0\n",
      "   0   0   0   0   0   0   0   0   0   0   0   0   0   0   0   0  80 247\n",
      " 253 208  13   0   0   0   0   0   0   0   0   0   0   0   0   0   0   0\n",
      "   0   0   0   0   0   0   0  29 207 253 235  77   0   0   0   0   0   0\n",
      "   0   0   0   0   0   0   0   0   0   0   0   0   0   0   0   0  54 209\n",
      " 253 253  88   0   0   0   0   0   0   0   0   0   0   0   0   0   0   0\n",
      "   0   0   0   0   0   0   0  93 254 253 238 170  17   0   0   0   0   0\n",
      "   0   0   0   0   0   0   0   0   0   0   0   0   0   0   0   0  23 210\n",
      " 254 253 159   0   0   0   0   0   0   0   0   0   0   0   0   0   0   0\n",
      "   0   0   0   0   0   0   0  16 209 253 254 240  81   0   0   0   0   0\n",
      "   0   0   0   0   0   0   0   0   0   0   0   0   0   0   0   0   0  27\n",
      " 253 253 254  13   0   0   0   0   0   0   0   0   0   0   0   0   0   0\n",
      "   0   0   0   0   0   0   0   0  20 206 254 254 198   7   0   0   0   0\n",
      "   0   0   0   0   0   0   0   0   0   0   0   0   0   0   0   0   0   0\n",
      " 168 253 253 196   7   0   0   0   0   0   0   0   0   0   0   0   0   0\n",
      "   0   0   0   0   0   0   0   0   0  20 203 253 248  76   0   0   0   0\n",
      "   0   0   0   0   0   0   0   0   0   0   0   0   0   0   0   0   0   0\n",
      "  22 188 253 245  93   0   0   0   0   0   0   0   0   0   0   0   0   0\n",
      "   0   0   0   0   0   0   0   0   0   0 103 253 253 191   0   0   0   0\n",
      "   0   0   0   0   0   0   0   0   0   0   0   0   0   0   0   0   0   0\n",
      "   0  89 240 253 195  25   0   0   0   0   0   0   0   0   0   0   0   0\n",
      "   0   0   0   0   0   0   0   0   0   0  15 220 253 253  80   0   0   0\n",
      "   0   0   0   0   0   0   0   0   0   0   0   0   0   0   0   0   0   0\n",
      "   0   0  94 253 253 253  94   0   0   0   0   0   0   0   0   0   0   0\n",
      "   0   0   0   0   0   0   0   0   0   0   0   0  89 251 253 250 131   0\n",
      "   0   0   0   0   0   0   0   0   0   0   0   0   0   0   0   0   0   0\n",
      "   0   0   0   0   0 214 218  95   0   0   0   0   0   0   0   0   0   0\n",
      "   0   0   0   0   0   0   0   0   0   0   0   0   0   0   0   0   0   0\n",
      "   0   0   0   0   0   0   0   0   0   0   0   0   0   0   0   0   0   0\n",
      "   0   0   0   0   0   0   0   0   0   0   0   0   0   0   0   0   0   0\n",
      "   0   0   0   0   0   0   0   0   0   0   0   0   0   0   0   0   0   0\n",
      "   0   0   0   0   0   0   0   0   0   0   0   0   0   0   0   0   0   0\n",
      "   0   0   0   0   0   0   0   0   0   0   0   0   0   0   0   0   0   0\n",
      "   0   0   0   0   0   0   0   0   0   0   0]\n",
      "(42000, 785)\n"
     ]
    }
   ],
   "source": [
    "(_, _), (X_test, Y_test) = mnist.load_data()\n",
    "print(X_test.shape)\n",
    "print(Y_test)\n",
    "Y_test = Y_test[:, np.newaxis] # Creates a new axis and then takes all the elements and puts them along that axis\n",
    "print(Y_test)\n",
    "\n",
    "\n",
    "X_test = X_test.reshape(X_test.shape[0], -1)\n",
    "# print(X_test[0])\n",
    "# print(X_test.shape)\n",
    "test_data = np.concatenate((Y_test, X_test), axis=1) # joins a sequence of arrays along an access\n",
    "# print(test_data.shape)\n",
    "\n",
    "data = pd.read_csv('train.csv')\n",
    "# test_data = pd.read_csv('test.csv')\n",
    "data = np.array(data)\n",
    "# test_data = np.array(test_data)\n",
    "print(data[0])\n",
    "# print(test_data.shape)\n",
    "\n",
    "# This is the shape of the data, we have 42,000 images and an array of 785 values\n",
    "# for each of these images (label in the first column, 2-785 are the pixel values)\n",
    "print(data.shape)\n",
    "m, n = data.shape"
   ]
  },
  {
   "cell_type": "code",
   "execution_count": 11,
   "metadata": {},
   "outputs": [
    {
     "name": "stdout",
     "output_type": "stream",
     "text": [
      "[[1.  2.2 3.3]\n",
      " [3.  4.4 5.5]\n",
      " [5.  6.6 7.7]]\n"
     ]
    }
   ],
   "source": [
    "# Now we shuffle the data (example below)\n",
    "test_arr = np.array([[1,2.2,3.3], [3,4.4,5.5], [5,6.6,7.7]])\n",
    "np.random.shuffle(test_arr)\n",
    "print(test_arr)\n",
    "\n",
    "# Show we shuffle all the images to throw into the model (reduces bias and introduces independence)\n",
    "np.random.shuffle(data)"
   ]
  },
  {
   "cell_type": "code",
   "execution_count": 12,
   "metadata": {},
   "outputs": [
    {
     "name": "stdout",
     "output_type": "stream",
     "text": [
      "[[1.  3.  5. ]\n",
      " [2.2 4.4 6.6]\n",
      " [3.3 5.5 7.7]]\n",
      "(785, 42000)\n",
      "(785, 10000)\n"
     ]
    }
   ],
   "source": [
    "# Now we transpose the array (example)\n",
    "t_test_array = test_arr.T\n",
    "print(t_test_array)\n",
    "\n",
    "# We want to transpose the entire x data (first we are slicing an array from the start\n",
    "# to the end at 46,000 that generates a new arry). Then transpose so we can pass into neural network \n",
    "# (because imput layer is vertical):\n",
    "data_train = data[0:m].T\n",
    "data_test = test_data[0:m].T\n",
    "print(data_train.shape)\n",
    "print(data_test.shape)"
   ]
  },
  {
   "cell_type": "code",
   "execution_count": 13,
   "metadata": {},
   "outputs": [
    {
     "name": "stdout",
     "output_type": "stream",
     "text": [
      "[1. 3. 5.]\n",
      "[[2.2 4.4 6.6]\n",
      " [3.3 5.5 7.7]]\n",
      "(784, 42000)\n",
      "(42000,)\n",
      "(784, 10000)\n",
      "(10000,)\n"
     ]
    }
   ],
   "source": [
    "# After the transpose, the first row of the data is going to be the labels (which is your y)\n",
    "# Example \n",
    "y_label_test_array = t_test_array[0]\n",
    "x_label_test_array = t_test_array[1:]\n",
    "\n",
    "print(y_label_test_array)\n",
    "print(x_label_test_array)\n",
    "\n",
    "Y_train = data_train[0]\n",
    "X_train = data_train[1:]\n",
    "Y_test = data_test[0]\n",
    "X_test = data_test[1:]\n",
    "print(X_train.shape)\n",
    "print(Y_train.shape)\n",
    "print(X_test.shape)\n",
    "print(Y_test.shape)"
   ]
  },
  {
   "cell_type": "code",
   "execution_count": 14,
   "metadata": {},
   "outputs": [
    {
     "name": "stdout",
     "output_type": "stream",
     "text": [
      "(784, 42000)\n"
     ]
    }
   ],
   "source": [
    "# We divide the training data to normalize the inputs to fall into the 0 to 1 range (grayscaling)\n",
    "# The \".\"\" here makes sure we do float division \n",
    "X_train = X_train / 255.\n",
    "print(X_train.shape)\n"
   ]
  },
  {
   "cell_type": "code",
   "execution_count": 24,
   "metadata": {},
   "outputs": [
    {
     "name": "stdout",
     "output_type": "stream",
     "text": [
      "[[-0.32710792 -0.21219168  0.27787794 ... -0.32118017 -0.4055228\n",
      "   0.44591247]\n",
      " [-0.09018721  0.16055293  0.31451384 ...  0.06422104 -0.21319464\n",
      "   0.23778253]\n",
      " [ 0.20592813 -0.21909118  0.41785979 ...  0.09647195 -0.01137794\n",
      "  -0.01343931]\n",
      " ...\n",
      " [ 0.40193827  0.0233195  -0.48614356 ...  0.0771874   0.28443539\n",
      "   0.19841929]\n",
      " [ 0.45424373 -0.16821958  0.27198243 ...  0.35794233  0.41729677\n",
      "  -0.27210167]\n",
      " [-0.11891811 -0.43827529 -0.262051   ...  0.08958475  0.20294349\n",
      "   0.36435376]]\n"
     ]
    }
   ],
   "source": [
    "print(np.random.rand(10, 784) - 0.5)"
   ]
  },
  {
   "cell_type": "code",
   "execution_count": 23,
   "metadata": {},
   "outputs": [],
   "source": [
    "def init_params():\n",
    "    # Initialize weights and biases for a neural network with one hidden layer.\n",
    "    # W1 is the weight matrix for the connections between the input layer and the hidden layer.\n",
    "    # b1 is the bias vector for the hidden layer.\n",
    "    # W2 is the weight matrix for the connections between the hidden layer and the output layer.\n",
    "    # b2 is the bias vector for the output layer.\n",
    "\n",
    "    # We want to include the bias terms here to make sure the model learns and the does not get a bunch of zeros \n",
    "\n",
    "    # Here we use np.random.rand to generate random numbers between 0 and 1. (if we leave at this value the outputs of the neurons can become \n",
    "    # very small or very large which would I turn lead to the the gradient becoming very small or the \"vanishing gradient problem\")\n",
    "    \n",
    "    # By subtracting 0.5, we shift the range to be between -0.5 and 0.5. (convergence during training as weights initialized close to zero\n",
    "    # lead to faster convergence).\n",
    "\n",
    "    # The input layer has 784 neurons (for 28x28 pixel images, 784 = 28 * 28),\n",
    "    # and the hidden layer has 10 neurons (can be changed).\n",
    "    W1 = np.random.rand(10, 784) - 0.5\n",
    "\n",
    "    # The bias vector for the hidden layer has 10 elements, one for each neuron in the hidden layer.\n",
    "    b1 = np.random.rand(10, 1) - 0.5\n",
    "\n",
    "    # The output layer has 10 neurons (one for each class in a digit classification task).\n",
    "    # W2 connects 10 neurons in the hidden layer to 10 neurons in the output layer.\n",
    "    W2 = np.random.rand(10, 10) - 0.5\n",
    "\n",
    "    # The bias vector for the output layer also has 10 elements.\n",
    "    b2 = np.random.rand(10, 1) - 0.5\n",
    "\n",
    "    return W1, b1, W2, b2"
   ]
  },
  {
   "cell_type": "code",
   "execution_count": 30,
   "metadata": {},
   "outputs": [],
   "source": [
    "def ReLu(Z):\n",
    "    # Input is going to be the activation after the weight dot product is taken and then bias is added \n",
    "    # ReLU stands for Rectified linear Unit \n",
    "    # Helps us learn non-linear features within the models, the ReLU function introduces non-linearity \n",
    "    # The return values is the output of the neurons in the hidden layer\n",
    "    # Sets negative values to zero and then keeps all the positive values\n",
    "    # np.maximum compares two arrays element wise and returns the maximum  \n",
    "    return np.maximum(0, Z)\n",
    "\n",
    "def deriv_ReLU(Z):\n",
    "    # The derivative of ReLU\n",
    "    # print(type(Z > 0))\n",
    "    return Z > 0\n",
    "\n",
    "def softmax(Z):\n",
    "    # Softmax computes the raw scores of the nerons into probabilites that all sum up to 1\n",
    "    # Softmax is helpful in multiclass classification problems where the network needs to know the probabilites of each class\n",
    "    # This is calculated by computing the exponential score of each element and then dividing by the sum of all expoonents (normalizing)\n",
    "    # print(Z.shape) # (10, 42000)\n",
    "    # return 0\n",
    "    # A = np.exp(Z) / np.sum(np.exp(Z), axis=0) # Using axis = 0 here to sum the columns (based of the equation we are summing up the classes)\n",
    "    # return A \n",
    "\n",
    "\n",
    "    # Normalize by subtracting the max value in each column for numerical stability\n",
    "    Z_shifted = Z - np.max(Z, axis=0)\n",
    "\n",
    "    # Compute the exponentials of the shifted values\n",
    "    exp_Z = np.exp(Z_shifted)\n",
    "\n",
    "    # Compute the sum of exponentials along each column\n",
    "    sum_exp_Z = np.sum(exp_Z, axis=0)\n",
    "\n",
    "    # Compute the softmax values by dividing the exponentials by the sum of exponentials\n",
    "    A = exp_Z / sum_exp_Z\n",
    "\n",
    "    return A\n",
    "\n",
    "\n",
    "def forward_prop(W1, b1, W2, b2, X):\n",
    "    # print(W1.shape)\n",
    "    # print(X.shape)\n",
    "    # Now we do the linear transformation (the combines the weight and input tensor using the dot product and the weight)\n",
    "    # The connecting part of the neurons is done by matrix multiplication (Weight tensor x X tensor...)\n",
    "    # print(f\"W1 shape: {W1.shape}\")\n",
    "    # print(f\"X shape: {X.shape}\")\n",
    "    Z1 = W1.dot(X) + b1 #Z1 is the activation here\n",
    "    # print(Z1[0])\n",
    "    # ReLU helps us get the output of the of the neurons within the hidden layer \n",
    "    A1 = ReLu(Z1)\n",
    "    # print(A1[0])\n",
    "    # Now, we have to connect the neurons from the hidden layer to the output layer, this is done by taking another dot product and adding bias\n",
    "    Z2 = W2.dot(A1) + b2\n",
    "    # Now, we get the output of neurons in the output layer, since we want probablilies, we use the softmax equations (due to this being a classification problem)\n",
    "    A2 = softmax(Z2)\n",
    "\n",
    "    return Z1, A1, Z2, A2\n",
    "\n",
    "def one_hot(Y):\n",
    "    # One hot encoding tranforms the labels into a binary format that the network can use for calculating the loss (many loss functions need this)\n",
    "    # First step is to create a matrix of with dimenstions (num_of_samples, number_of_classes)\n",
    "    one_hot_Y = np.zeros((Y.size, Y.max() + 1)) # We use Y.max here because this will return 9 + 1 which is 10 total class for 0-9 digits\n",
    "    # Now, for each sample, we are setting the element corresponding to its class to one\n",
    "    # This generates an row indicies in an array of Y.size so like [0, 1,....41998, 41999].\n",
    "    one_hot_Y[np.arange(Y.size), Y] = 1 \n",
    "    # print(f'One hot array shape transpoded: {one_hot_Y.T.shape}')\n",
    "    return one_hot_Y.T\n",
    "\n",
    "\n",
    "def back_prop(Z1, A1, Z2, A2, W1, W2, X, Y):\n",
    "    m = X.shape[1]\n",
    "    # Back propagation is a key algorithm that helps us update the weights and biases of the NN by minimzing the loss function \n",
    "    # Primary goal is to minimize the loss function (do this by seeing how well the predictions match the actual label)\n",
    "    # Back Prop does gradient descent to update the weights and bias (which allows us to update the params to reduce the loss)\n",
    "    # propigates the error back through the network using the chain rule (gradient of the computed loss)\n",
    "\n",
    "    # Back prop over the softmax and compute the gradient of the output layer\n",
    "    one_hot_Y = one_hot(Y)\n",
    "    # Gradient of cross entropy loss with respect to Z2 \n",
    "    # Next, we subtract the one_hot_y from A2. If the predicted probability is high, then the loss will be low (this is the derivative of mean squared error) \n",
    "    dZ2 = A2 - one_hot_Y\n",
    "\n",
    "    # The next step is to fine how W2 effects the lost. This is computed using the chain rule and is the derivative of the \n",
    "    # loss and the activations of the hidden layer. \n",
    "    dW2 = (1 / m) * dZ2.dot(A1.T)\n",
    "\n",
    "    # The bias is the weighted sum of the inputs to the output layer. Sum all the gradients of the loss with resepect to Z2\n",
    "    db2 = (1 / m) * np.sum(dZ2)\n",
    "\n",
    "\n",
    "    # Now we have to backprop over the ReLU layer\n",
    "    dA1 = W2.T.dot(dZ2)\n",
    "    dZ1 = dA1 * deriv_ReLU(Z1) \n",
    "\n",
    "    dW1 = (1 / m) * dZ1.dot(X.T)\n",
    "    db1 = (1 / m) * np.sum(dZ1)\n",
    "\n",
    "    return dW1, db1, dW2, db2 \n",
    "\n",
    "def update_parameters(W1, b1, W2, b2, dW1, db1, dW2, db2, alpha):\n",
    "    # Updating the weights in th opposite direction of the gradient of the loss \n",
    "    W1 = W1 - alpha * dW1\n",
    "    b1 = b1 - alpha * db1\n",
    "    W2 = W2 - alpha * dW2\n",
    "    b2 = b2 - alpha * db2\n",
    "    return W1, b1, W2, b2"
   ]
  },
  {
   "cell_type": "code",
   "execution_count": 32,
   "metadata": {},
   "outputs": [
    {
     "name": "stdout",
     "output_type": "stream",
     "text": [
      "[0 4 2 1 3]\n",
      "[[1. 0. 0. 0. 0.]\n",
      " [0. 0. 0. 1. 0.]\n",
      " [0. 0. 1. 0. 0.]\n",
      " [0. 0. 0. 0. 1.]\n",
      " [0. 1. 0. 0. 0.]]\n"
     ]
    }
   ],
   "source": [
    "Y_train_arr = np.array([0,4,2,1,3])\n",
    "Y_train_arr_one_hot = one_hot(Y_train_arr)\n",
    "print(Y_train_arr)\n",
    "print(Y_train_arr_one_hot)"
   ]
  },
  {
   "cell_type": "code",
   "execution_count": 31,
   "metadata": {},
   "outputs": [
    {
     "name": "stdout",
     "output_type": "stream",
     "text": [
      "[[False False False ...  True  True False]\n",
      " [False False False ... False  True  True]\n",
      " [ True False False ...  True  True  True]\n",
      " ...\n",
      " [ True False False ...  True  True False]\n",
      " [ True  True  True ... False False  True]\n",
      " [ True False  True ...  True  True  True]]\n"
     ]
    }
   ],
   "source": [
    "W1, b1, W2, b2 = init_params()\n",
    "Z1, A1, Z2, A2 = forward_prop(W1, b1, W2, b2, X_train)\n",
    "dW1, db1, dW2, db2  = back_prop(Z1, A1, Z2, A2, W1, W2, X_train, Y_train)\n",
    "\n"
   ]
  },
  {
   "cell_type": "code",
   "execution_count": 20,
   "metadata": {},
   "outputs": [],
   "source": [
    "# Next step is to get the predictions (getting the class with the highest probability within the output tensor from the output layer)\n",
    "def get_predictions(A2):\n",
    "    A2_max = np.argmax(A2, axis=0)\n",
    "    return A2_max\n",
    "\n",
    "\n",
    "# Next is to get the accuarcy of your predictions compared to the actual labels \n",
    "def get_accuracy(predictions, Y):\n",
    "    num = np.sum(predictions == Y)\n",
    "    return num / Y.size\n"
   ]
  },
  {
   "cell_type": "code",
   "execution_count": 21,
   "metadata": {},
   "outputs": [],
   "source": [
    "# # Now we are actually running the gradient descent algo:\n",
    "def gradient_descent(X_train, Y_train, X_test, Y_test, learning_rate, iterations):\n",
    "    W1, b1, W2, b2 = init_params()\n",
    "\n",
    "    train_accuracies = []\n",
    "    test_accuracies = []\n",
    "\n",
    "    for i in range(iterations):\n",
    "        Z1, A1, Z2, A2 = forward_prop(W1, b1, W2, b2, X_train)\n",
    "        dW1, db1, dW2, db2  = back_prop(Z1, A1, Z2, A2, W1, W2, X_train, Y_train)\n",
    "\n",
    "        W1, b1, W2, b2 = update_parameters(W1, b1, W2, b2, dW1, db1, dW2, db2, learning_rate)\n",
    "\n",
    "        if (i + 1) % 50 == 0:\n",
    "            predictions = get_predictions(A2)\n",
    "            train_accuracy = get_accuracy(predictions, Y_train)\n",
    "            train_accuracies.append(train_accuracy)\n",
    "            print(f'Iteration: {i + 1}, Train Accuarcy: {train_accuracy * 100:.2f}%')\n",
    "            # print(f'X_test shape: {X_test.shape}')\n",
    "\n",
    "            _, _, _, A2_test = forward_prop(W1, b1, W2, b2, X_test)\n",
    "            # print(A2_test.shape)\n",
    "\n",
    "            predictions_test = get_predictions(A2_test)\n",
    "             # Debug print statements\n",
    "            # print(f\"Shape of predictions: {predictions_test.shape}\")\n",
    "            # print(f\"Shape of Y_test: {Y_test.shape}\")\n",
    "            test_accuracy = get_accuracy(predictions_test, Y_test)\n",
    "            test_accuracies.append(test_accuracy)\n",
    "            print(f'Iteration: {i + 1}, Test Accuarcy: {test_accuracy * 100:.2f}%')\n",
    "\n",
    "    return W1, b1, W2, b2, train_accuracies, test_accuracies    "
   ]
  },
  {
   "cell_type": "code",
   "execution_count": 22,
   "metadata": {},
   "outputs": [
    {
     "name": "stdout",
     "output_type": "stream",
     "text": [
      "Iteration: 50, Train Accuarcy: 74.26%\n",
      "Iteration: 50, Test Accuarcy: 73.68%\n",
      "Iteration: 100, Train Accuarcy: 81.92%\n",
      "Iteration: 100, Test Accuarcy: 81.12%\n"
     ]
    },
    {
     "ename": "KeyboardInterrupt",
     "evalue": "",
     "output_type": "error",
     "traceback": [
      "\u001b[1;31m---------------------------------------------------------------------------\u001b[0m",
      "\u001b[1;31mKeyboardInterrupt\u001b[0m                         Traceback (most recent call last)",
      "Cell \u001b[1;32mIn[22], line 1\u001b[0m\n\u001b[1;32m----> 1\u001b[0m W1, b1, W2, b2, train_accuracies, test_accuracies \u001b[38;5;241m=\u001b[39m \u001b[43mgradient_descent\u001b[49m\u001b[43m(\u001b[49m\u001b[43mX_train\u001b[49m\u001b[43m,\u001b[49m\u001b[43m \u001b[49m\u001b[43mY_train\u001b[49m\u001b[43m,\u001b[49m\u001b[43m \u001b[49m\u001b[43mX_test\u001b[49m\u001b[43m,\u001b[49m\u001b[43m \u001b[49m\u001b[43mY_test\u001b[49m\u001b[43m,\u001b[49m\u001b[43m \u001b[49m\u001b[38;5;241;43m0.10\u001b[39;49m\u001b[43m,\u001b[49m\u001b[43m \u001b[49m\u001b[38;5;241;43m1000\u001b[39;49m\u001b[43m)\u001b[49m\n",
      "Cell \u001b[1;32mIn[21], line 9\u001b[0m, in \u001b[0;36mgradient_descent\u001b[1;34m(X_train, Y_train, X_test, Y_test, learning_rate, iterations)\u001b[0m\n\u001b[0;32m      6\u001b[0m test_accuracies \u001b[38;5;241m=\u001b[39m []\n\u001b[0;32m      8\u001b[0m \u001b[38;5;28;01mfor\u001b[39;00m i \u001b[38;5;129;01min\u001b[39;00m \u001b[38;5;28mrange\u001b[39m(iterations):\n\u001b[1;32m----> 9\u001b[0m     Z1, A1, Z2, A2 \u001b[38;5;241m=\u001b[39m \u001b[43mforward_prop\u001b[49m\u001b[43m(\u001b[49m\u001b[43mW1\u001b[49m\u001b[43m,\u001b[49m\u001b[43m \u001b[49m\u001b[43mb1\u001b[49m\u001b[43m,\u001b[49m\u001b[43m \u001b[49m\u001b[43mW2\u001b[49m\u001b[43m,\u001b[49m\u001b[43m \u001b[49m\u001b[43mb2\u001b[49m\u001b[43m,\u001b[49m\u001b[43m \u001b[49m\u001b[43mX_train\u001b[49m\u001b[43m)\u001b[49m\n\u001b[0;32m     10\u001b[0m     dW1, db1, dW2, db2  \u001b[38;5;241m=\u001b[39m back_prop(Z1, A1, Z2, A2, W1, W2, X_train, Y_train)\n\u001b[0;32m     12\u001b[0m     W1, b1, W2, b2 \u001b[38;5;241m=\u001b[39m update_parameters(W1, b1, W2, b2, dW1, db1, dW2, db2, learning_rate)\n",
      "Cell \u001b[1;32mIn[17], line 49\u001b[0m, in \u001b[0;36mforward_prop\u001b[1;34m(W1, b1, W2, b2, X)\u001b[0m\n\u001b[0;32m     46\u001b[0m Z1 \u001b[38;5;241m=\u001b[39m W1\u001b[38;5;241m.\u001b[39mdot(X) \u001b[38;5;241m+\u001b[39m b1 \u001b[38;5;66;03m#Z1 is the activation here\u001b[39;00m\n\u001b[0;32m     47\u001b[0m \u001b[38;5;66;03m# print(Z1[0])\u001b[39;00m\n\u001b[0;32m     48\u001b[0m \u001b[38;5;66;03m# ReLU helps us get the output of the of the neurons within the hidden layer \u001b[39;00m\n\u001b[1;32m---> 49\u001b[0m A1 \u001b[38;5;241m=\u001b[39m \u001b[43mReLu\u001b[49m\u001b[43m(\u001b[49m\u001b[43mZ1\u001b[49m\u001b[43m)\u001b[49m\n\u001b[0;32m     50\u001b[0m \u001b[38;5;66;03m# print(A1[0])\u001b[39;00m\n\u001b[0;32m     51\u001b[0m \u001b[38;5;66;03m# Now, we have to connect the neurons from the hidden layer to the output layer, this is done by taking another dot product and adding bias\u001b[39;00m\n\u001b[0;32m     52\u001b[0m Z2 \u001b[38;5;241m=\u001b[39m W2\u001b[38;5;241m.\u001b[39mdot(A1) \u001b[38;5;241m+\u001b[39m b2\n",
      "Cell \u001b[1;32mIn[17], line 8\u001b[0m, in \u001b[0;36mReLu\u001b[1;34m(Z)\u001b[0m\n\u001b[0;32m      1\u001b[0m \u001b[38;5;28;01mdef\u001b[39;00m \u001b[38;5;21mReLu\u001b[39m(Z):\n\u001b[0;32m      2\u001b[0m     \u001b[38;5;66;03m# Input is going to be the activation after the weight dot product is taken and then bias is added \u001b[39;00m\n\u001b[0;32m      3\u001b[0m     \u001b[38;5;66;03m# ReLU stands for Rectified linear Unit \u001b[39;00m\n\u001b[1;32m   (...)\u001b[0m\n\u001b[0;32m      6\u001b[0m     \u001b[38;5;66;03m# Sets negative values to zero and then keeps all the positive values\u001b[39;00m\n\u001b[0;32m      7\u001b[0m     \u001b[38;5;66;03m# np.maximum compares two arrays element wise and returns the maximum  \u001b[39;00m\n\u001b[1;32m----> 8\u001b[0m     \u001b[38;5;28;01mreturn\u001b[39;00m \u001b[43mnp\u001b[49m\u001b[38;5;241;43m.\u001b[39;49m\u001b[43mmaximum\u001b[49m\u001b[43m(\u001b[49m\u001b[38;5;241;43m0\u001b[39;49m\u001b[43m,\u001b[49m\u001b[43m \u001b[49m\u001b[43mZ\u001b[49m\u001b[43m)\u001b[49m\n",
      "\u001b[1;31mKeyboardInterrupt\u001b[0m: "
     ]
    }
   ],
   "source": [
    "W1, b1, W2, b2, train_accuracies, test_accuracies = gradient_descent(X_train, Y_train, X_test, Y_test, 0.10, 1000)"
   ]
  },
  {
   "cell_type": "code",
   "execution_count": null,
   "metadata": {},
   "outputs": [],
   "source": [
    "from PIL import Image\n",
    "import matplotlib.pyplot as plt\n",
    "def make_predictions(X, W1 ,b1, W2, b2):\n",
    "    _, _, _, A2 = forward_prop(W1, b1, W2, b2, X)\n",
    "    predictions = get_predictions(A2)\n",
    "    return predictions\n",
    "\n",
    "\n",
    "def display_prediction(index, X , Y, W1, b1, W2, b2):\n",
    "    vect_X = X[:, index].reshape(-1, 1)\n",
    "    prediction = make_predictions(vect_X, W1, b1, W2, b2)\n",
    "    label = Y[index]\n",
    "    print(\"Model Prediction: \", prediction)\n",
    "    print(\"Actual Label: \", label)\n",
    "\n",
    "    display_X = X[:, index].reshape(28, 28)\n",
    "    plt.gray()\n",
    "    plt.imshow(display_X, interpolation='nearest')\n",
    "    plt.show()"
   ]
  },
  {
   "cell_type": "code",
   "execution_count": null,
   "metadata": {},
   "outputs": [
    {
     "data": {
      "image/png": "[encoded data removed]",
      "text/plain": [
       "<Figure size 1000x600 with 1 Axes>"
      ]
     },
     "metadata": {},
     "output_type": "display_data"
    }
   ],
   "source": [
    "iterations = range(50, 1001, 50)\n",
    "\n",
    "plt.figure(figsize=(10,6))\n",
    "plt.plot(iterations, train_accuracies, label='Training Accuracy')\n",
    "plt.plot(iterations, test_accuracies, label='Testing Accuracy')\n",
    "plt.xlabel('Iterations')\n",
    "plt.ylabel('Accuracy')\n",
    "plt.title('Training vs. Testing Accuracy over Iterations')\n",
    "plt.legend()\n",
    "plt.show()"
   ]
  },
  {
   "cell_type": "code",
   "execution_count": null,
   "metadata": {},
   "outputs": [
    {
     "name": "stdout",
     "output_type": "stream",
     "text": [
      "Model Prediction:  [7]\n",
      "Actual Label:  7\n"
     ]
    },
    {
     "data": {
      "image/png": "[encoded data removed]",
      "text/plain": [
       "<Figure size 640x480 with 1 Axes>"
      ]
     },
     "metadata": {},
     "output_type": "display_data"
    },
    {
     "name": "stdout",
     "output_type": "stream",
     "text": [
      "Model Prediction:  [2]\n",
      "Actual Label:  2\n"
     ]
    },
    {
     "data": {
      "image/png": "[encoded data removed]",
      "text/plain": [
       "<Figure size 640x480 with 1 Axes>"
      ]
     },
     "metadata": {},
     "output_type": "display_data"
    },
    {
     "name": "stdout",
     "output_type": "stream",
     "text": [
      "Model Prediction:  [1]\n",
      "Actual Label:  1\n"
     ]
    },
    {
     "data": {
      "image/png": "[encoded data removed]",
      "text/plain": [
       "<Figure size 640x480 with 1 Axes>"
      ]
     },
     "metadata": {},
     "output_type": "display_data"
    },
    {
     "name": "stdout",
     "output_type": "stream",
     "text": [
      "Model Prediction:  [0]\n",
      "Actual Label:  0\n"
     ]
    },
    {
     "data": {
      "image/png": "[encoded data removed]",
      "text/plain": [
       "<Figure size 640x480 with 1 Axes>"
      ]
     },
     "metadata": {},
     "output_type": "display_data"
    },
    {
     "name": "stdout",
     "output_type": "stream",
     "text": [
      "Model Prediction:  [4]\n",
      "Actual Label:  4\n"
     ]
    },
    {
     "data": {
      "image/png": "[encoded data removed]",
      "text/plain": [
       "<Figure size 640x480 with 1 Axes>"
      ]
     },
     "metadata": {},
     "output_type": "display_data"
    }
   ],
   "source": [
    "for i in range(5):\n",
    "    display_prediction(i, X_test, Y_test, W1, b1, W2, b2)"
   ]
  },
  {
   "cell_type": "code",
   "execution_count": null,
   "metadata": {},
   "outputs": [],
   "source": [
    "import pickle\n",
    "\n",
    "# Assuming W1, b1, W2, and b2 are your trained weights and biases\n",
    "weights_biases = {\n",
    "    'W1': W1,\n",
    "    'b1': b1,\n",
    "    'W2': W2,\n",
    "    'b2': b2\n",
    "}\n",
    "with open('weights_biases.pkl', 'wb') as f:\n",
    "    pickle.dump(weights_biases, f)"
   ]
  }
 ],
 "metadata": {
  "kernelspec": {
   "display_name": "Python 3",
   "language": "python",
   "name": "python3"
  },
  "language_info": {
   "codemirror_mode": {
    "name": "ipython",
    "version": 3
   },
   "file_extension": ".py",
   "mimetype": "text/x-python",
   "name": "python",
   "nbconvert_exporter": "python",
   "pygments_lexer": "ipython3",
   "version": "3.12.4"
  }
 },
 "nbformat": 4,
 "nbformat_minor": 2
}
