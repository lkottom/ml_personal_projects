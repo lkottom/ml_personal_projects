{
 "cells": [
  {
   "cell_type": "code",
   "execution_count": 8,
   "metadata": {},
   "outputs": [
    {
     "name": "stdout",
     "output_type": "stream",
     "text": [
      "torch.Size([1, 16, 640, 640])\n"
     ]
    }
   ],
   "source": [
    "import torch\n",
    "import torch.nn as nn\n",
    "import torch.nn.functional as F\n",
    "\n",
    "class SimpleCNN(nn.Module):\n",
    "    def __init__(self):\n",
    "        super(SimpleCNN, self).__init__()\n",
    "        # Define a single convolutional layer\n",
    "        self.conv1 = nn.Conv2d(in_channels=3, out_channels=16, kernel_size=3, stride=1, padding=1)\n",
    "    \n",
    "    def forward(self, x):\n",
    "        # Apply the convolutional layer\n",
    "        x = self.conv1(x)\n",
    "        # Apply a ReLU activation function\n",
    "        x = F.relu(x)\n",
    "        return x\n",
    "\n",
    "# Create an instance of the model\n",
    "model = SimpleCNN()\n",
    "\n",
    "# Load the saved tensor\n",
    "input_tensor = torch.load('input_tensor.pt')\n",
    "\n",
    "# Add a batch dimension if necessary (to match the input shape [1, 3, 640, 640])\n",
    "# if input_tensor.dim() == 3:\n",
    "#     input_tensor = input_tensor.unsqueeze(0)\n",
    "\n",
    "# Pass the tensor through the model\n",
    "output = model(input_tensor)\n",
    "\n",
    "# Print the output shape\n",
    "print(output.shape)"
   ]
  }
 ],
 "metadata": {
  "kernelspec": {
   "display_name": "Python 3",
   "language": "python",
   "name": "python3"
  },
  "language_info": {
   "codemirror_mode": {
    "name": "ipython",
    "version": 3
   },
   "file_extension": ".py",
   "mimetype": "text/x-python",
   "name": "python",
   "nbconvert_exporter": "python",
   "pygments_lexer": "ipython3",
   "version": "3.10.7"
  }
 },
 "nbformat": 4,
 "nbformat_minor": 2
}
